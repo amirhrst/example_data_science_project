{
 "cells": [
  {
   "cell_type": "code",
   "execution_count": 1,
   "id": "27a40d97",
   "metadata": {},
   "outputs": [
    {
     "data": {
      "text/plain": [
       "'d:\\\\Projects\\\\dsproject\\\\research'"
      ]
     },
     "execution_count": 1,
     "metadata": {},
     "output_type": "execute_result"
    }
   ],
   "source": [
    "import os \n",
    "%pwd"
   ]
  },
  {
   "cell_type": "code",
   "execution_count": 2,
   "id": "b9881367",
   "metadata": {},
   "outputs": [],
   "source": [
    "os.chdir(\"../\")"
   ]
  },
  {
   "cell_type": "code",
   "execution_count": 3,
   "id": "3ca9fe9a",
   "metadata": {},
   "outputs": [
    {
     "data": {
      "text/plain": [
       "'d:\\\\Projects\\\\dsproject'"
      ]
     },
     "execution_count": 3,
     "metadata": {},
     "output_type": "execute_result"
    }
   ],
   "source": [
    "%pwd"
   ]
  },
  {
   "cell_type": "code",
   "execution_count": 4,
   "id": "79a76ed7",
   "metadata": {},
   "outputs": [],
   "source": [
    "from dataclasses import dataclass\n",
    "from pathlib import Path\n",
    "\n",
    "@dataclass\n",
    "class DataIngestionConfig:\n",
    "    root_dir: Path\n",
    "    source_URL: str\n",
    "    local_data_file: Path\n",
    "    unzip_dir: Path"
   ]
  },
  {
   "cell_type": "code",
   "execution_count": 5,
   "id": "0ca488d9",
   "metadata": {},
   "outputs": [],
   "source": [
    "\n",
    "from src.datascience.constants import *\n",
    "\n",
    "from src.datascience.utils.common import create_directories\n"
   ]
  },
  {
   "cell_type": "code",
   "execution_count": 6,
   "id": "3ce2ca06",
   "metadata": {},
   "outputs": [],
   "source": [
    "from src.datascience.utils.common import read_yaml"
   ]
  },
  {
   "cell_type": "code",
   "execution_count": 7,
   "id": "68c7c653",
   "metadata": {},
   "outputs": [],
   "source": [
    "class ConfigurationManager:\n",
    "    def __init__(self, config_filepath = CONFIG_FILE_PATH,\n",
    "                 params_filepath = PARAMS_FILE_PATH,\n",
    "                 schema_filepath = SCHEMA_PATH):\n",
    "        self.config = read_yaml(config_filepath)\n",
    "        self.params = read_yaml(params_filepath)\n",
    "        self.schema = read_yaml(schema_filepath)\n",
    "        \n",
    "        create_directories([self.config.artifacts_root])\n",
    "        \n",
    "    def get_data_ingestion_config(self) -> DataIngestionConfig:\n",
    "        config = self.config.data_ingestion\n",
    "        \n",
    "        \n",
    "        create_directories([config.root_dir])\n",
    "        data_ingestion_config = DataIngestionConfig(\n",
    "            root_dir=config.root_dir,\n",
    "            source_URL=config.source_URL,\n",
    "            local_data_file=config.local_data_file,\n",
    "            unzip_dir=config.unzip_dir\n",
    "        )\n",
    "        \n",
    "        return data_ingestion_config"
   ]
  },
  {
   "cell_type": "code",
   "execution_count": null,
   "id": "ccde7a16",
   "metadata": {},
   "outputs": [],
   "source": [
    "\n",
    "import zipfile\n",
    "import urllib.request as request\n",
    "from src.datascience import logger   \n",
    "import zipfile\n",
    "\n",
    "class DataIngestion: \n",
    "    def __init__(self, config: DataIngestionConfig):\n",
    "        self.config = config\n",
    "\n",
    "    def download_data(self):\n",
    "        if not os.path.exists(self.config.local_data_file):\n",
    "\n",
    "            filename, headers = request.urlretrieve(url = self.config.source_URL,filename=self.config.local_data_file)\n",
    "            logger.info(f\"Downloading data from {self.config.source_URL} to {self.config.local_data_file}\")\n",
    "            logger.info(\"Download completed.\")\n",
    "\n",
    "    def extract_zip(self):\n",
    "        \"\"\"Extracts the downloaded zip file to the specified directory.\n",
    "        \"\"\"\n",
    "        unzip_path = self.config.unzip_dir\n",
    "        os.makedirs(unzip_path, exist_ok=True)\n",
    "        with zipfile.ZipFile(self.config.local_data_file, 'r') as zip_ref:\n",
    "            zip_ref.extractall(unzip_path)\n",
    "        logger.info(f\"Extracted zip file {self.config.local_data_file} to {unzip_path}\")\n"
   ]
  },
  {
   "cell_type": "code",
   "execution_count": 9,
   "id": "710abd16",
   "metadata": {},
   "outputs": [
    {
     "name": "stdout",
     "output_type": "stream",
     "text": [
      "[2025-10-30 09:26:16,765: INFO: common]: YAML file: config\\config.yaml loaded successfully\n",
      "[2025-10-30 09:26:16,766: INFO: common]: YAML file: params.yaml loaded successfully\n",
      "[2025-10-30 09:26:16,767: INFO: common]: YAML file: schema.yaml loaded successfully\n",
      "[2025-10-30 09:26:16,768: INFO: common]: created directory at: artifacts\n",
      "[2025-10-30 09:26:16,768: INFO: common]: created directory at: artifacts/data_ingestion\n",
      "DataIngestionConfig(root_dir='artifacts/data_ingestion', source_URL='https://github.com/krishnaik06/datasets/raw/refs/heads/main/winequality-data.zip', local_data_file='artifacts/data_ingestion/data.zip', unzip_dir='artifacts/data_ingestion')\n",
      "[2025-10-30 09:26:17,414: INFO: 1026146470]: Downloading data from https://github.com/krishnaik06/datasets/raw/refs/heads/main/winequality-data.zip to artifacts/data_ingestion/data.zip\n",
      "[2025-10-30 09:26:17,415: INFO: 1026146470]: Download completed.\n",
      "[2025-10-30 09:26:17,430: INFO: 1026146470]: Extracted zip file artifacts/data_ingestion/data.zip to artifacts/data_ingestion\n"
     ]
    }
   ],
   "source": [
    "try:\n",
    "    config = ConfigurationManager()\n",
    "    data_ingestion_config = config.get_data_ingestion_config()\n",
    "    print(data_ingestion_config)\n",
    "    data_ingestion= DataIngestion(config=data_ingestion_config)\n",
    "    data_ingestion.download_data()\n",
    "    data_ingestion.extract_zip()\n",
    "except Exception as e:\n",
    "    logger.exception(e)"
   ]
  },
  {
   "cell_type": "code",
   "execution_count": null,
   "id": "33ac6418",
   "metadata": {},
   "outputs": [],
   "source": []
  }
 ],
 "metadata": {
  "kernelspec": {
   "display_name": "dsproject",
   "language": "python",
   "name": "python3"
  },
  "language_info": {
   "codemirror_mode": {
    "name": "ipython",
    "version": 3
   },
   "file_extension": ".py",
   "mimetype": "text/x-python",
   "name": "python",
   "nbconvert_exporter": "python",
   "pygments_lexer": "ipython3",
   "version": "3.13.4"
  }
 },
 "nbformat": 4,
 "nbformat_minor": 5
}
